{
 "cells": [
  {
   "cell_type": "code",
   "execution_count": 1,
   "metadata": {},
   "outputs": [
    {
     "data": {
      "text/plain": [
       "'af06bdef489e145fbe3df4b40228eb5c9f423063'"
      ]
     },
     "execution_count": 1,
     "metadata": {},
     "output_type": "execute_result"
    }
   ],
   "source": [
    "import dart_fss as dart\n",
    "\n",
    "DART_KEY=\"af06bdef489e145fbe3df4b40228eb5c9f423063\"\n",
    "dart.set_api_key(api_key=DART_KEY)\n"
   ]
  },
  {
   "cell_type": "code",
   "execution_count": 2,
   "metadata": {},
   "outputs": [
    {
     "name": "stdout",
     "output_type": "stream",
     "text": [
      "                                   \r"
     ]
    }
   ],
   "source": [
    "corp_list = dart.get_corp_list()\n"
   ]
  },
  {
   "cell_type": "code",
   "execution_count": 3,
   "metadata": {},
   "outputs": [
    {
     "data": {
      "text/plain": [
       "Number of companies: 105850"
      ]
     },
     "execution_count": 3,
     "metadata": {},
     "output_type": "execute_result"
    }
   ],
   "source": [
    "corp_list"
   ]
  },
  {
   "cell_type": "code",
   "execution_count": 8,
   "metadata": {},
   "outputs": [
    {
     "data": {
      "text/html": [
       "\n",
       "    <style scoped>\n",
       "        .dart-table tbody tr th {\n",
       "            vertical-align: top;\n",
       "            text-overflow: ellipsis;\n",
       "        }\n",
       "        .dart-table thead th {\n",
       "            text-align: right;\n",
       "            text-overflow: ellipsis;\n",
       "        }\n",
       "    </style>\n",
       "    <table border=\"1\" class=\"dart-table\"><thead><tr style=\"text-align: right;\"><th>Label</th><th>Data</th></tr></thead><tbody><tr><th>corp_code</th><td>00126380</td></tr><tr><th>corp_name</th><td>삼성전자</td></tr><tr><th>stock_code</th><td>005930</td></tr><tr><th>modify_date</th><td>20230110</td></tr><tr><th>sector</th><td>통신 및 방송 장비 제조업</td></tr><tr><th>product</th><td>통신 및 방송 장비 제조(무선) 제품, 반도체 제조(메모리) 제품,  전자부품 제조(디스플레이) 제품, 영상 및 음향기기 제조(영상기기) 제품 등</td></tr><tr><th>corp_cls</th><td>Y</td></tr></tbody></table>"
      ],
      "text/plain": [
       "[00126380]삼성전자"
      ]
     },
     "execution_count": 8,
     "metadata": {},
     "output_type": "execute_result"
    }
   ],
   "source": [
    "samsung = corp_list.find_by_corp_name('삼성전자', exactly=True)[0]\n",
    "samsung"
   ]
  },
  {
   "cell_type": "code",
   "execution_count": 19,
   "metadata": {},
   "outputs": [
    {
     "ename": "KeyError",
     "evalue": "'corp_code'",
     "output_type": "error",
     "traceback": [
      "\u001b[0;31m---------------------------------------------------------------------------\u001b[0m",
      "\u001b[0;31mKeyError\u001b[0m                                  Traceback (most recent call last)",
      "Cell \u001b[0;32mIn[19], line 63\u001b[0m\n\u001b[1;32m     60\u001b[0m stock_market_dict[\u001b[38;5;124m'\u001b[39m\u001b[38;5;124mproduct\u001b[39m\u001b[38;5;124m'\u001b[39m]\u001b[38;5;241m.\u001b[39mappend(product)\n\u001b[1;32m     61\u001b[0m stock_market_dict[\u001b[38;5;124m'\u001b[39m\u001b[38;5;124mcorp_cls\u001b[39m\u001b[38;5;124m'\u001b[39m]\u001b[38;5;241m.\u001b[39mappend(corp_cls)\n\u001b[0;32m---> 63\u001b[0m \u001b[38;5;28;01massert\u001b[39;00m \u001b[38;5;28mlen\u001b[39m(\u001b[43mstock_market_dict\u001b[49m\u001b[43m[\u001b[49m\u001b[38;5;124;43m\"\u001b[39;49m\u001b[38;5;124;43mcorp_code\u001b[39;49m\u001b[38;5;124;43m\"\u001b[39;49m\u001b[43m]\u001b[49m) \u001b[38;5;241m==\u001b[39m \u001b[38;5;28mlen\u001b[39m(stock_market_dict[\u001b[38;5;124m\"\u001b[39m\u001b[38;5;124mcorp_name\u001b[39m\u001b[38;5;124m\"\u001b[39m]) \u001b[38;5;241m==\u001b[39m \u001b[38;5;28mlen\u001b[39m(stock_market_dict[\u001b[38;5;124m\"\u001b[39m\u001b[38;5;124msector\u001b[39m\u001b[38;5;124m\"\u001b[39m]) \u001b[38;5;241m==\u001b[39m \u001b[38;5;28mlen\u001b[39m(stock_market_dict[\u001b[38;5;124m\"\u001b[39m\u001b[38;5;124mproduct\u001b[39m\u001b[38;5;124m\"\u001b[39m]) \u001b[38;5;241m==\u001b[39m \u001b[38;5;28mlen\u001b[39m(stock_market_dict[\u001b[38;5;124m\"\u001b[39m\u001b[38;5;124mcorp_cls\u001b[39m\u001b[38;5;124m\"\u001b[39m])\n",
      "\u001b[0;31mKeyError\u001b[0m: 'corp_code'"
     ]
    }
   ],
   "source": [
    "from bs4 import BeautifulSoup\n",
    "import requests\n",
    "\n",
    "corp_classes= [ 'KOSPI', 'KOSDAQ', 'KONEX' ]\n",
    "include_corp_name=True\n",
    "\n",
    "\n",
    "corp_cls_to_market = {\n",
    "    \"KOSPI\": \"stockMkt\",\n",
    "    \"KOSDAQ\": \"kosdaqMkt\",\n",
    "    \"KONEX\": \"konexMkt\",\n",
    "}\n",
    "\n",
    "stock_market_dict = {\n",
    "    \"stock_code\":[],\n",
    "    \"corp_name\":[],\n",
    "    \"sector\":[],\n",
    "    \"product\":[],\n",
    "    \"corp_cls\":[],\n",
    "    \n",
    "}\n",
    "\n",
    "\n",
    "for corp_cls in corp_classes:\n",
    "    \n",
    "\n",
    "    market_type = corp_cls_to_market[corp_cls]\n",
    "    url = 'https://kind.krx.co.kr/corpgeneral/corpList.do'\n",
    "    headers = {'Referer': 'https://kind.krx.co.kr/corpgeneral/corpList.do?method=loadInitPage'\n",
    "    }\n",
    "    params = {\n",
    "        'method': 'download',\n",
    "        'pageIndex': 1,\n",
    "        'currentPageSize': 5000,\n",
    "        'orderMode': 3,\n",
    "        'orderStat': 'D',\n",
    "        'searchType': 13,\n",
    "        'marketType': market_type,\n",
    "        'fiscalYearEnd': 'all',\n",
    "        'location': 'all',\n",
    "    }\n",
    "\n",
    "    resp = requests.post(url=url, params=params, headers=headers)\n",
    "    resp.text\n",
    "    html = BeautifulSoup(resp.text, 'html.parser')\n",
    "    rows = html.find_all('tr')\n",
    "\n",
    "\n",
    "    for row in rows[:]:\n",
    "        cols = row.find_all('td')\n",
    "        if len(cols) > 0:\n",
    "            corp_name = cols[0].text.strip()\n",
    "            stock_code = cols[1].text.strip()\n",
    "            sector = cols[2].text.strip()\n",
    "            product = cols[3].text.strip()\n",
    "            \n",
    "            stock_market_dict[\"stock_code\"].append(stock_code.rjust(6, '0'))\n",
    "            stock_market_dict['corp_name'].append(corp_name)\n",
    "            stock_market_dict['sector'].append(sector)\n",
    "            stock_market_dict['product'].append(product)\n",
    "            stock_market_dict['corp_cls'].append(corp_cls)\n",
    "\n",
    "            assert len(stock_market_dict[\"stock_code\"]) == len(stock_market_dict[\"corp_name\"]) == len(stock_market_dict[\"sector\"]) == len(stock_market_dict[\"product\"]) == len(stock_market_dict[\"corp_cls\"])\n",
    "            "
   ]
  },
  {
   "cell_type": "code",
   "execution_count": 10,
   "metadata": {},
   "outputs": [
    {
     "data": {
      "text/html": [
       "<div>\n",
       "<style scoped>\n",
       "    .dataframe tbody tr th:only-of-type {\n",
       "        vertical-align: middle;\n",
       "    }\n",
       "\n",
       "    .dataframe tbody tr th {\n",
       "        vertical-align: top;\n",
       "    }\n",
       "\n",
       "    .dataframe thead th {\n",
       "        text-align: right;\n",
       "    }\n",
       "</style>\n",
       "<table border=\"1\" class=\"dataframe\">\n",
       "  <thead>\n",
       "    <tr style=\"text-align: right;\">\n",
       "      <th></th>\n",
       "      <th>corp_code</th>\n",
       "      <th>corp_name</th>\n",
       "      <th>sector</th>\n",
       "      <th>product</th>\n",
       "      <th>corp_cls</th>\n",
       "    </tr>\n",
       "  </thead>\n",
       "  <tbody>\n",
       "    <tr>\n",
       "      <th>0</th>\n",
       "      <td>00475150</td>\n",
       "      <td>SK이터닉스</td>\n",
       "      <td>건물 건설업</td>\n",
       "      <td>부동산 개발</td>\n",
       "      <td>KOSPI</td>\n",
       "    </tr>\n",
       "    <tr>\n",
       "      <th>1</th>\n",
       "      <td>00278470</td>\n",
       "      <td>에이피알</td>\n",
       "      <td>기타 화학제품 제조업</td>\n",
       "      <td>화장품, 피부미용기기 등</td>\n",
       "      <td>KOSPI</td>\n",
       "    </tr>\n",
       "    <tr>\n",
       "      <th>2</th>\n",
       "      <td>00066970</td>\n",
       "      <td>엘앤에프</td>\n",
       "      <td>일차전지 및 축전지 제조업</td>\n",
       "      <td>이차전지 양극활물질</td>\n",
       "      <td>KOSPI</td>\n",
       "    </tr>\n",
       "    <tr>\n",
       "      <th>3</th>\n",
       "      <td>00022100</td>\n",
       "      <td>포스코DX</td>\n",
       "      <td>건축기술, 엔지니어링 및 관련 기술 서비스업</td>\n",
       "      <td>EIC 자동화 엔지니어링 및 IT서비스</td>\n",
       "      <td>KOSPI</td>\n",
       "    </tr>\n",
       "    <tr>\n",
       "      <th>4</th>\n",
       "      <td>00017860</td>\n",
       "      <td>DS단석</td>\n",
       "      <td>기타 화학제품 제조업</td>\n",
       "      <td>바이오에너지</td>\n",
       "      <td>KOSPI</td>\n",
       "    </tr>\n",
       "    <tr>\n",
       "      <th>...</th>\n",
       "      <td>...</td>\n",
       "      <td>...</td>\n",
       "      <td>...</td>\n",
       "      <td>...</td>\n",
       "      <td>...</td>\n",
       "    </tr>\n",
       "    <tr>\n",
       "      <th>2682</th>\n",
       "      <td>00185190</td>\n",
       "      <td>수프로</td>\n",
       "      <td>산업용 농·축산물 및 동·식물 도매업</td>\n",
       "      <td>조경수용 수목</td>\n",
       "      <td>KONEX</td>\n",
       "    </tr>\n",
       "    <tr>\n",
       "      <th>2683</th>\n",
       "      <td>00114920</td>\n",
       "      <td>대주이엔티</td>\n",
       "      <td>1차 철강 제조업</td>\n",
       "      <td>이중보온관, 엘리베이터 가이드 레일</td>\n",
       "      <td>KONEX</td>\n",
       "    </tr>\n",
       "    <tr>\n",
       "      <th>2684</th>\n",
       "      <td>00179720</td>\n",
       "      <td>머니무브</td>\n",
       "      <td>기타 금융업</td>\n",
       "      <td>신용평가솔루션, 온라인투자연계금융서비스</td>\n",
       "      <td>KONEX</td>\n",
       "    </tr>\n",
       "    <tr>\n",
       "      <th>2685</th>\n",
       "      <td>00086460</td>\n",
       "      <td>큐러블</td>\n",
       "      <td>자연과학 및 공학 연구개발업</td>\n",
       "      <td>유전체 분석 서비스</td>\n",
       "      <td>KONEX</td>\n",
       "    </tr>\n",
       "    <tr>\n",
       "      <th>2686</th>\n",
       "      <td>00116100</td>\n",
       "      <td>태양기계</td>\n",
       "      <td>자동차 신품 부품 제조업</td>\n",
       "      <td>엔진부품</td>\n",
       "      <td>KONEX</td>\n",
       "    </tr>\n",
       "  </tbody>\n",
       "</table>\n",
       "<p>2687 rows × 5 columns</p>\n",
       "</div>"
      ],
      "text/plain": [
       "     corp_code corp_name                    sector                product  \\\n",
       "0     00475150    SK이터닉스                    건물 건설업                 부동산 개발   \n",
       "1     00278470      에이피알               기타 화학제품 제조업          화장품, 피부미용기기 등   \n",
       "2     00066970      엘앤에프            일차전지 및 축전지 제조업             이차전지 양극활물질   \n",
       "3     00022100     포스코DX  건축기술, 엔지니어링 및 관련 기술 서비스업  EIC 자동화 엔지니어링 및 IT서비스   \n",
       "4     00017860      DS단석               기타 화학제품 제조업                 바이오에너지   \n",
       "...        ...       ...                       ...                    ...   \n",
       "2682  00185190       수프로      산업용 농·축산물 및 동·식물 도매업                조경수용 수목   \n",
       "2683  00114920     대주이엔티                 1차 철강 제조업    이중보온관, 엘리베이터 가이드 레일   \n",
       "2684  00179720      머니무브                    기타 금융업  신용평가솔루션, 온라인투자연계금융서비스   \n",
       "2685  00086460       큐러블           자연과학 및 공학 연구개발업             유전체 분석 서비스   \n",
       "2686  00116100      태양기계             자동차 신품 부품 제조업                   엔진부품   \n",
       "\n",
       "     corp_cls  \n",
       "0       KOSPI  \n",
       "1       KOSPI  \n",
       "2       KOSPI  \n",
       "3       KOSPI  \n",
       "4       KOSPI  \n",
       "...       ...  \n",
       "2682    KONEX  \n",
       "2683    KONEX  \n",
       "2684    KONEX  \n",
       "2685    KONEX  \n",
       "2686    KONEX  \n",
       "\n",
       "[2687 rows x 5 columns]"
      ]
     },
     "execution_count": 10,
     "metadata": {},
     "output_type": "execute_result"
    }
   ],
   "source": [
    "import pandas as pd\n",
    "\n",
    "df = pd.DataFrame(stock_market_dict)\n",
    "df"
   ]
  },
  {
   "cell_type": "code",
   "execution_count": 17,
   "metadata": {},
   "outputs": [
    {
     "data": {
      "text/html": [
       "<div>\n",
       "<style scoped>\n",
       "    .dataframe tbody tr th:only-of-type {\n",
       "        vertical-align: middle;\n",
       "    }\n",
       "\n",
       "    .dataframe tbody tr th {\n",
       "        vertical-align: top;\n",
       "    }\n",
       "\n",
       "    .dataframe thead th {\n",
       "        text-align: right;\n",
       "    }\n",
       "</style>\n",
       "<table border=\"1\" class=\"dataframe\">\n",
       "  <thead>\n",
       "    <tr style=\"text-align: right;\">\n",
       "      <th></th>\n",
       "      <th>corp_code</th>\n",
       "      <th>corp_name</th>\n",
       "      <th>sector</th>\n",
       "      <th>product</th>\n",
       "      <th>corp_cls</th>\n",
       "    </tr>\n",
       "  </thead>\n",
       "  <tbody>\n",
       "    <tr>\n",
       "      <th>777</th>\n",
       "      <td>00005930</td>\n",
       "      <td>삼성전자</td>\n",
       "      <td>통신 및 방송 장비 제조업</td>\n",
       "      <td>통신 및 방송 장비 제조(무선) 제품, 반도체 제조(메모리) 제품,  전자부품 제조...</td>\n",
       "      <td>KOSPI</td>\n",
       "    </tr>\n",
       "  </tbody>\n",
       "</table>\n",
       "</div>"
      ],
      "text/plain": [
       "    corp_code corp_name          sector  \\\n",
       "777  00005930      삼성전자  통신 및 방송 장비 제조업   \n",
       "\n",
       "                                               product corp_cls  \n",
       "777  통신 및 방송 장비 제조(무선) 제품, 반도체 제조(메모리) 제품,  전자부품 제조...    KOSPI  "
      ]
     },
     "execution_count": 17,
     "metadata": {},
     "output_type": "execute_result"
    }
   ],
   "source": [
    "df[df['corp_name'] == '삼성전자']"
   ]
  },
  {
   "cell_type": "code",
   "execution_count": null,
   "metadata": {},
   "outputs": [],
   "source": [
    "\n",
    "market_type = corp_cls_to_market[corp_classes.upper()]\n",
    "payload = \n",
    "\n",
    "stock_market_list = dict()\n",
    "\n",
    "resp = request.post(url=url, payload=payload, referer=referer)\n",
    "html = BeautifulSoup(resp.text, 'html.parser')\n",
    "rows = html.find_all('tr')\n",
    "\n",
    "for row in rows:\n",
    "    cols = row.find_all('td')\n",
    "    if len(cols) > 0:\n",
    "        corp_name = cols[0].text.strip()\n",
    "        stock_code = cols[1].text.strip()\n",
    "        sector = cols[2].text.strip()\n",
    "        product = cols[3].text.strip()\n",
    "        corp_info = {'sector': sector,\n",
    "                        'product': product, 'corp_cls': corp_classes}\n",
    "        if include_corp_name:\n",
    "            corp_info['corp_name'] = corp_name\n",
    "        stock_market_list[stock_code] = corp_info\n",
    "\n"
   ]
  },
  {
   "cell_type": "code",
   "execution_count": null,
   "metadata": {},
   "outputs": [],
   "source": [
    "stock_market_list"
   ]
  },
  {
   "cell_type": "code",
   "execution_count": null,
   "metadata": {},
   "outputs": [],
   "source": []
  }
 ],
 "metadata": {
  "kernelspec": {
   "display_name": "finance",
   "language": "python",
   "name": "python3"
  },
  "language_info": {
   "codemirror_mode": {
    "name": "ipython",
    "version": 3
   },
   "file_extension": ".py",
   "mimetype": "text/x-python",
   "name": "python",
   "nbconvert_exporter": "python",
   "pygments_lexer": "ipython3",
   "version": "3.10.13"
  }
 },
 "nbformat": 4,
 "nbformat_minor": 2
}
